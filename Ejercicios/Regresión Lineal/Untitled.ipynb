{
 "cells": [
  {
   "cell_type": "code",
   "execution_count": null,
   "id": "68d27234-cec0-4c79-a3ca-20aed3f20fe3",
   "metadata": {},
   "outputs": [],
   "source": [
    "# Instalar versiones específicas de las dependencias para evitar conflictos\n",
    "!pip install --no-deps numpy==1.24.3\n",
    "!pip install --no-deps pandas==2.0.3\n",
    "!pip install --no-deps matplotlib==3.7.1\n",
    "!pip install --no-deps seaborn==0.12.2\n",
    "!pip install --no-deps scikit-learn==1.3.0"
   ]
  },
  {
   "cell_type": "code",
   "execution_count": null,
   "id": "30fe4dd4-78be-445f-8a54-a2b0770520f9",
   "metadata": {},
   "outputs": [],
   "source": [
    "# Importaciones\n",
    "from typing import Tuple, Dict, Any\n",
    "import pandas as pd\n",
    "import numpy as np\n",
    "import matplotlib.pyplot as plt\n",
    "import seaborn as sns\n",
    "from sklearn.model_selection import train_test_split, GridSearchCV\n",
    "from sklearn.linear_model import LinearRegression, LogisticRegression\n",
    "from sklearn.tree import DecisionTreeRegressor\n",
    "from sklearn.metrics import (\n",
    "    accuracy_score, precision_score, recall_score, f1_score,\n",
    "    mean_squared_error, r2_score\n",
    ")\n",
    "from sklearn.preprocessing import StandardScaler, LabelEncoder\n",
    "from sklearn.feature_selection import SelectKBest, f_regression, RFE\n",
    "from sklearn.impute import SimpleImputer"
   ]
  },
  {
   "cell_type": "code",
   "execution_count": null,
   "id": "b5878a0b-9318-475c-9f19-3958cd128512",
   "metadata": {},
   "outputs": [],
   "source": []
  }
 ],
 "metadata": {
  "kernelspec": {
   "display_name": "Python 3 (ipykernel)",
   "language": "python",
   "name": "python3"
  },
  "language_info": {
   "codemirror_mode": {
    "name": "ipython",
    "version": 3
   },
   "file_extension": ".py",
   "mimetype": "text/x-python",
   "name": "python",
   "nbconvert_exporter": "python",
   "pygments_lexer": "ipython3",
   "version": "3.12.7"
  }
 },
 "nbformat": 4,
 "nbformat_minor": 5
}
